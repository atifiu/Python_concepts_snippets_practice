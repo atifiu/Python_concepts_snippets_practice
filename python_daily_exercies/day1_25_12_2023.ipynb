{
 "cells": [
  {
   "cell_type": "code",
   "execution_count": 1,
   "metadata": {},
   "outputs": [
    {
     "name": "stdout",
     "output_type": "stream",
     "text": [
      "['e', 'n', 't', 'r', 'p', 'u', 'i', 'a', 'l']\n"
     ]
    }
   ],
   "source": [
    "# Day 1 question from twitter https://twitter.com/CodingComputing/status/1738549517077614877\n",
    "# It deals with concept of set i.e. it cannot contain duplicate\n",
    "# It does not maintain sort order\n",
    "# list.sort has key parameter which can be used to sort the list using specific way\n",
    "def puzzling_fun(my_list):\n",
    "    my_set = set(my_list) # this will get the unique elements from my_list\n",
    "    my_new_list = list(my_set) # convert it to list again\n",
    "    my_new_list.sort(key=my_list.index) # because set does not maintain order \n",
    "    #                                   # we will sort the list again with index of initial list\n",
    "    return my_new_list\n",
    "\n",
    "my_list = list('entrepreneurial')\n",
    "print(puzzling_fun(my_list))\n",
    "# ['e', 'n', 't', 'r', 'p', 'u', 'i', 'a', 'l']\n",
    "\n"
   ]
  },
  {
   "cell_type": "code",
   "execution_count": 3,
   "metadata": {},
   "outputs": [
    {
     "name": "stdout",
     "output_type": "stream",
     "text": [
      "FDX\n",
      "-22.42%\n"
     ]
    }
   ],
   "source": [
    "# Day 1 question from twitter https://twitter.com/bbelderbos/status/1736790788544057552\n",
    "# Tuple unpacking and how to discard elements from the list using throway *_ variable\n",
    "\n",
    "fields = ['FDX', 'FedEx Corporation', '158.94', '-45.93', '-22.42%']\n",
    "symbol, name, price, *_ = fields # except first 3 elements discard rest of the elements of the list\n",
    "print(symbol)\n",
    "symbol, *_, value1 = fields # except first and last elements of the list discard all other values\n",
    "print(value1) \n"
   ]
  },
  {
   "cell_type": "code",
   "execution_count": 8,
   "metadata": {},
   "outputs": [
    {
     "name": "stdout",
     "output_type": "stream",
     "text": [
      "0.03952956199645996\n",
      "0.0016777515411376953\n"
     ]
    }
   ],
   "source": [
    "# Day 1 efficient method of joining elements of the list using .join https://twitter.com/bbelderbos/status/1736726322880151590\n",
    "\n",
    "import time\n",
    "\n",
    "words = [\"word\"] * 100_000\n",
    "\n",
    "# inefficient string concatenation\n",
    "start_time = time.time()\n",
    "sentence = \"\"\n",
    "for w in words:\n",
    "    sentence += w\n",
    "print(time.time() - start_time)  # 0.9659469127655029\n",
    "\n",
    "# more efficient string concat using .join() on list\n",
    "start_time = time.time()\n",
    "sentence = \" \".join(words)\n",
    "print(time.time() - start_time)  # 0.001013040542602539 \n",
    "#print(sentence)"
   ]
  },
  {
   "cell_type": "code",
   "execution_count": 9,
   "metadata": {},
   "outputs": [
    {
     "name": "stdout",
     "output_type": "stream",
     "text": [
      "[(1, 2), (3, 4), (5, 6), (7, 8), (9, 10)]\n",
      "1 2\n",
      "3 4\n",
      "5 6\n",
      "7 8\n",
      "9 10\n"
     ]
    }
   ],
   "source": [
    "numbers = range(1, 11)\n",
    "pairs = list(zip(numbers[::2], numbers[1::2]))\n",
    "print(pairs)  # [(1, 2), (3, 4), (5, 6), (7, 8), (9, 10)]\n",
    "\n",
    "for i , j in zip(numbers[::2], numbers[1::2]):\n",
    "    print(i, j)"
   ]
  },
  {
   "cell_type": "code",
   "execution_count": 11,
   "metadata": {},
   "outputs": [
    {
     "name": "stdout",
     "output_type": "stream",
     "text": [
      "False\n"
     ]
    }
   ],
   "source": [
    "dict1 = {'a':2, 'b':4  , 'c':6, 'd':8 , 'e':10}\n",
    "\n",
    "print('g' in dict1)"
   ]
  }
 ],
 "metadata": {
  "kernelspec": {
   "display_name": "dashboard",
   "language": "python",
   "name": "python3"
  },
  "language_info": {
   "codemirror_mode": {
    "name": "ipython",
    "version": 3
   },
   "file_extension": ".py",
   "mimetype": "text/x-python",
   "name": "python",
   "nbconvert_exporter": "python",
   "pygments_lexer": "ipython3",
   "version": "3.10.6"
  }
 },
 "nbformat": 4,
 "nbformat_minor": 2
}
