{
 "cells": [
  {
   "cell_type": "markdown",
   "metadata": {},
   "source": [
    "### Day 2\n",
    "#### We will practice list slicing and take up the question from Coding Computing Coach email\n",
    "#### Question: Suppose you have a list of numbers from 1 to 31, representing the dates in a month.\n",
    "#### Given that the first Sunday occurs on the 3rd, can you slice out all dates that would be Sundays?"
   ]
  },
  {
   "cell_type": "code",
   "execution_count": 3,
   "metadata": {},
   "outputs": [
    {
     "name": "stdout",
     "output_type": "stream",
     "text": [
      "[1, 2, 3, 4, 5, 6, 7, 8, 9, 10, 11, 12, 13, 14, 15, 16, 17, 18, 19, 20, 21, 22, 23, 24, 25, 26, 27, 28, 29, 30, 31]\n"
     ]
    },
    {
     "data": {
      "text/plain": [
       "[3, 10, 17, 24, 31]"
      ]
     },
     "execution_count": 3,
     "metadata": {},
     "output_type": "execute_result"
    }
   ],
   "source": [
    "calender = [i for i in range(1,32)]\n",
    "print(calender)\n",
    "sundays = calender[2::7]\n",
    "sundays"
   ]
  }
 ],
 "metadata": {
  "kernelspec": {
   "display_name": "dashboard",
   "language": "python",
   "name": "python3"
  },
  "language_info": {
   "codemirror_mode": {
    "name": "ipython",
    "version": 3
   },
   "file_extension": ".py",
   "mimetype": "text/x-python",
   "name": "python",
   "nbconvert_exporter": "python",
   "pygments_lexer": "ipython3",
   "version": "3.10.6"
  }
 },
 "nbformat": 4,
 "nbformat_minor": 2
}
