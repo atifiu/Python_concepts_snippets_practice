{
 "cells": [
  {
   "cell_type": "code",
   "execution_count": 5,
   "id": "50368c39",
   "metadata": {},
   "outputs": [],
   "source": [
    "import string\n",
    "\n",
    "def password_validator(password: string) -> bool:\n",
    "    \"\"\" This function will accept password as a string and validate\n",
    "        if it contains atleast 1 uppercase, 1 lowercase and 1 special characters, 1 digit \n",
    "        and length should be atleast 10 and returns True/False\"\"\"\n",
    "    chars = set(password)\n",
    "    return bool(\n",
    "            len(chars.intersection(string.ascii_lowercase))\n",
    "            and len(chars.intersection(string.ascii_uppercase))\n",
    "            and len(chars.intersection(string.punctuation))\n",
    "            and len(chars.intersection(string.digits))\n",
    "            and len(password) > 10\n",
    "                )"
   ]
  },
  {
   "cell_type": "code",
   "execution_count": 6,
   "id": "5e31d462",
   "metadata": {},
   "outputs": [
    {
     "data": {
      "text/plain": [
       "True"
      ]
     },
     "execution_count": 6,
     "metadata": {},
     "output_type": "execute_result"
    }
   ],
   "source": [
    "password_validator('Indianation@75')"
   ]
  },
  {
   "cell_type": "code",
   "execution_count": 7,
   "id": "e06f1b1e",
   "metadata": {},
   "outputs": [
    {
     "data": {
      "text/plain": [
       "False"
      ]
     },
     "execution_count": 7,
     "metadata": {},
     "output_type": "execute_result"
    }
   ],
   "source": [
    "password_validator('Indianation75')"
   ]
  },
  {
   "cell_type": "code",
   "execution_count": 8,
   "id": "ec9dae2b",
   "metadata": {},
   "outputs": [
    {
     "data": {
      "text/plain": [
       "False"
      ]
     },
     "execution_count": 8,
     "metadata": {},
     "output_type": "execute_result"
    }
   ],
   "source": [
    "password_validator('Indianation@')"
   ]
  },
  {
   "cell_type": "code",
   "execution_count": 9,
   "id": "e4419f0c",
   "metadata": {},
   "outputs": [
    {
     "data": {
      "text/plain": [
       "False"
      ]
     },
     "execution_count": 9,
     "metadata": {},
     "output_type": "execute_result"
    }
   ],
   "source": [
    "password_validator('Indian@75')"
   ]
  },
  {
   "cell_type": "code",
   "execution_count": 10,
   "id": "83c74a21",
   "metadata": {},
   "outputs": [
    {
     "data": {
      "text/plain": [
       "False"
      ]
     },
     "execution_count": 10,
     "metadata": {},
     "output_type": "execute_result"
    }
   ],
   "source": [
    "password_validator('indiannation@75')"
   ]
  },
  {
   "cell_type": "code",
   "execution_count": 11,
   "id": "9ca8606e",
   "metadata": {},
   "outputs": [
    {
     "data": {
      "text/plain": [
       "' This function will accept password as a string and validate\\n    if it contains atleast 1 uppercase, 1 lowercase and 1 special characters, 1 digit \\n        and length should be atleast 10'"
      ]
     },
     "execution_count": 11,
     "metadata": {},
     "output_type": "execute_result"
    }
   ],
   "source": [
    "password_validator.__doc__"
   ]
  }
 ],
 "metadata": {
  "kernelspec": {
   "display_name": "Python 3 (ipykernel)",
   "language": "python",
   "name": "python3"
  },
  "language_info": {
   "codemirror_mode": {
    "name": "ipython",
    "version": 3
   },
   "file_extension": ".py",
   "mimetype": "text/x-python",
   "name": "python",
   "nbconvert_exporter": "python",
   "pygments_lexer": "ipython3",
   "version": "3.9.5"
  }
 },
 "nbformat": 4,
 "nbformat_minor": 5
}
