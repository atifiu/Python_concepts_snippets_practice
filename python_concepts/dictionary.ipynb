{
 "cells": [
  {
   "cell_type": "markdown",
   "metadata": {},
   "source": [
    "## Dictionary"
   ]
  },
  {
   "cell_type": "markdown",
   "metadata": {},
   "source": [
    "#### In this notebook we will document all the important concepts about <br> dictionary data structure in python"
   ]
  },
  {
   "cell_type": "code",
   "execution_count": 4,
   "metadata": {},
   "outputs": [
    {
     "name": "stdout",
     "output_type": "stream",
     "text": [
      "<class 'dict'>\n",
      "{'name': 'atif', 'age': 36}\n",
      "<class 'dict'>\n"
     ]
    }
   ],
   "source": [
    "# Dictionary can be defined using dict keyword or by giving key:value pair inside {} or empty {}\n",
    "dict1 = dict()\n",
    "print(type(dict1))\n",
    "dict2 = {'name':'atif', 'age':36}\n",
    "print(dict2) \n",
    "dict3 = {}\n",
    "print(type(dict3))"
   ]
  },
  {
   "cell_type": "code",
   "execution_count": 9,
   "metadata": {},
   "outputs": [
    {
     "name": "stdout",
     "output_type": "stream",
     "text": [
      "atif\n",
      "unknown\n"
     ]
    }
   ],
   "source": [
    "# to retrieve value we can use [] like list by passing key value or use .get() which is more pythonic \n",
    "# and will return default value if provided in case key is missing\n",
    "\n",
    "print(dict2['name'])\n",
    "\n",
    "print(dict2.get('address', 'unknown'))"
   ]
  },
  {
   "cell_type": "code",
   "execution_count": 5,
   "metadata": {},
   "outputs": [
    {
     "name": "stdout",
     "output_type": "stream",
     "text": [
      "30\n"
     ]
    },
    {
     "data": {
      "text/plain": [
       "['a', 'b', 'c', 'd', 'e']"
      ]
     },
     "execution_count": 5,
     "metadata": {},
     "output_type": "execute_result"
    }
   ],
   "source": [
    "# We can get the values using .values( method)\n",
    "dict1 = {'a':2, 'b':4  , 'c':6, 'd':8 , 'e':10}\n",
    "#get total values of the dictionary\n",
    "total_value = sum(dict1.values())\n",
    "print(total_value)\n",
    "# convert dictionary keys into a list using keys() method\n",
    "list(dict1.keys())"
   ]
  },
  {
   "cell_type": "code",
   "execution_count": 11,
   "metadata": {},
   "outputs": [
    {
     "name": "stdout",
     "output_type": "stream",
     "text": [
      "a 1\n",
      "{'A': 100, 'B': 200, 'C': 300}\n"
     ]
    }
   ],
   "source": [
    "### Dictionary comprehension works similar to list comprehension. Below we will use dict comprehension to convert\n",
    "### dictionary from one form to another.\n",
    "### dict.items() return key value pair\n",
    "\n",
    "dict1 = {'a': 1}\n",
    "type(dict1.items())\n",
    "for k, v in dict1.items():\n",
    "    print(k, v)\n",
    "    \n",
    "dict1 = {'a': 1, 'b': 2, 'c': 3}\n",
    "dict2 = {k.upper():v*100 for (k,v) in dict1.items()}\n",
    "print(dict2)\n"
   ]
  }
 ],
 "metadata": {
  "kernelspec": {
   "display_name": "dashboard",
   "language": "python",
   "name": "python3"
  },
  "language_info": {
   "codemirror_mode": {
    "name": "ipython",
    "version": 3
   },
   "file_extension": ".py",
   "mimetype": "text/x-python",
   "name": "python",
   "nbconvert_exporter": "python",
   "pygments_lexer": "ipython3",
   "version": "3.10.6"
  }
 },
 "nbformat": 4,
 "nbformat_minor": 2
}
