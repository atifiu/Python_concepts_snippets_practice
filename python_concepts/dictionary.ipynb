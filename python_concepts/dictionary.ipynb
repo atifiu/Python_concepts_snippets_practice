{
 "cells": [
  {
   "cell_type": "markdown",
   "metadata": {},
   "source": [
    "## Dictionary"
   ]
  },
  {
   "cell_type": "markdown",
   "metadata": {},
   "source": [
    "#### In this notebook we will document all the important concepts about <br> dictionary data structure in python"
   ]
  },
  {
   "cell_type": "code",
   "execution_count": 4,
   "metadata": {},
   "outputs": [
    {
     "name": "stdout",
     "output_type": "stream",
     "text": [
      "<class 'dict'>\n",
      "{'name': 'atif', 'age': 36}\n",
      "<class 'dict'>\n"
     ]
    }
   ],
   "source": [
    "# Dictionary can be defined using dict keyword or by giving key:value pair inside {} or empty {}\n",
    "dict1 = dict()\n",
    "print(type(dict1))\n",
    "dict2 = {'name':'atif', 'age':36}\n",
    "print(dict2) \n",
    "dict3 = {}\n",
    "print(type(dict3))"
   ]
  },
  {
   "cell_type": "code",
   "execution_count": 9,
   "metadata": {},
   "outputs": [
    {
     "name": "stdout",
     "output_type": "stream",
     "text": [
      "atif\n",
      "unknown\n"
     ]
    }
   ],
   "source": [
    "# to retrieve value we can use [] like list by passing key value or use .get() which is more pythonic \n",
    "# and will return default value if provided in case key is missing\n",
    "\n",
    "print(dict2['name'])\n",
    "\n",
    "print(dict2.get('address', 'unknown'))"
   ]
  }
 ],
 "metadata": {
  "kernelspec": {
   "display_name": "dashboard",
   "language": "python",
   "name": "python3"
  },
  "language_info": {
   "codemirror_mode": {
    "name": "ipython",
    "version": 3
   },
   "file_extension": ".py",
   "mimetype": "text/x-python",
   "name": "python",
   "nbconvert_exporter": "python",
   "pygments_lexer": "ipython3",
   "version": "3.10.6"
  }
 },
 "nbformat": 4,
 "nbformat_minor": 2
}
