{
 "cells": [
  {
   "cell_type": "markdown",
   "metadata": {},
   "source": [
    "# List"
   ]
  },
  {
   "cell_type": "markdown",
   "metadata": {},
   "source": [
    "#### In this notebook we will document all the important concepts about <br> list data structure in python\n"
   ]
  },
  {
   "cell_type": "code",
   "execution_count": 2,
   "metadata": {},
   "outputs": [
    {
     "name": "stdout",
     "output_type": "stream",
     "text": [
      "[10, 20, 30]\n"
     ]
    }
   ],
   "source": [
    "my_list = [0, 10, 20, 30, 40]\n",
    "my_sliced_list = my_list[1:4]  # <--- This is the slicing step\n",
    "print(my_sliced_list)\n",
    "# Output: [10, 20, 30]"
   ]
  },
  {
   "cell_type": "code",
   "execution_count": 3,
   "metadata": {},
   "outputs": [
    {
     "name": "stdout",
     "output_type": "stream",
     "text": [
      "[30, 40]\n"
     ]
    }
   ],
   "source": [
    "### we can also use negative numbers in slicing to start from behind\n",
    "### say we want to slice last two numbers\n",
    "print(my_list[-2:])"
   ]
  },
  {
   "cell_type": "code",
   "execution_count": 4,
   "metadata": {},
   "outputs": [
    {
     "data": {
      "text/plain": [
       "[0, 20, 40]"
      ]
     },
     "execution_count": 4,
     "metadata": {},
     "output_type": "execute_result"
    }
   ],
   "source": [
    "### list slicing has thrird optional parameter which is default to 1 i.e. \n",
    "### if you want to skip element you can use step 2\n",
    "my_list[::2]\n"
   ]
  },
  {
   "cell_type": "code",
   "execution_count": 5,
   "metadata": {},
   "outputs": [
    {
     "data": {
      "text/plain": [
       "[40, 30, 20, 10, 0]"
      ]
     },
     "execution_count": 5,
     "metadata": {},
     "output_type": "execute_result"
    }
   ],
   "source": [
    "### you can reverse the list using step by giving negative step value\n",
    "\n",
    "my_list[::-1]"
   ]
  },
  {
   "cell_type": "code",
   "execution_count": 1,
   "metadata": {},
   "outputs": [
    {
     "name": "stdout",
     "output_type": "stream",
     "text": [
      "[1, 2, 3]\n",
      "[4]\n",
      "[4]\n",
      "[2, 3, 4, 5, 6, 7, 8]\n",
      "None\n",
      "[10, 11, 12, 3, 4, 5, 6, 7, 8, 9, 10, [10, 11, 12]]\n",
      "[10, 11, 12]\n",
      "[10, 11, 12, 3, 4, 5, 6, 7, 8, 9, 10]\n",
      "[12, 11, 10, 10, 9, 8, 7, 6, 5, 4, 3]\n",
      "[3, 4, 5, 6, 7, 8, 9, 10, 10, 11, 12]\n",
      "[3, 4, 5, 6, 7, 8, 9, 10, 10, 11, 12, 13, 14, 15]\n",
      "[4, 5, 6, 7, 8, 9, 10, 10, 11, 12, 13, 14, 15]\n"
     ]
    }
   ],
   "source": [
    "# List slicing\n",
    "list1 = [1,2,3,4,5,6,7,8]\n",
    "# if we dont give value before : then it will be start\n",
    "# if we dont give end value i.e. after : then it will fetch value till the end of the list\n",
    "# starting index is inclusive and ending index is exclusive\n",
    "print(list1[:3])\n",
    "print(list1[3:4])\n",
    "print(list1[3:4])\n",
    "print(list1[1:])\n",
    "list1[:2] = [10, 11, 12] # this will replace 0th and 1st element with the value given in the list \n",
    "#append with add element at the end of the list\n",
    "#list.append() returns null so if the value is assigned to any variable it will be null\n",
    "list1.append(9)\n",
    "a = list1.append(10)\n",
    "print(a)\n",
    "# if we append list then it will appended as a list at the end\n",
    "list1.append([10,11,12])\n",
    "print(list1)\n",
    "a=list1.pop() # pop will remove and return item from the last\n",
    "print(a)\n",
    "print(list1)\n",
    "# sort will do inplace sorting i.e. it will sort the list\n",
    "# difference between sorted and sort is that sort will do inplace sorting and returns nothing whiel sorting() will return a new sorted list\n",
    "list1.sort()\n",
    "new_list = sorted(list1, reverse=True)\n",
    "print(new_list)\n",
    "print(list1)\n",
    "### extend methods add an iterable to the end of the list\n",
    "\n",
    "temp_list = [13,14,15]\n",
    "list1.extend(temp_list)\n",
    "print(list1)\n",
    "# del to remove element from the list at given index\n",
    "del(list1[0])\n",
    "print(list1)\n",
    "\n",
    "# shallow copy of the list using list() or copy.copy or slicing the list [:]"
   ]
  }
 ],
 "metadata": {
  "kernelspec": {
   "display_name": "dashboard",
   "language": "python",
   "name": "python3"
  },
  "language_info": {
   "codemirror_mode": {
    "name": "ipython",
    "version": 3
   },
   "file_extension": ".py",
   "mimetype": "text/x-python",
   "name": "python",
   "nbconvert_exporter": "python",
   "pygments_lexer": "ipython3",
   "version": "3.10.6"
  }
 },
 "nbformat": 4,
 "nbformat_minor": 2
}
