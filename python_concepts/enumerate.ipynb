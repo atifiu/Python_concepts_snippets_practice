{
 "cells": [
  {
   "cell_type": "markdown",
   "metadata": {},
   "source": [
    "### Enumerate  use cases\n",
    "Enumerate is used to provide an index/counter with iterable"
   ]
  },
  {
   "cell_type": "code",
   "execution_count": 3,
   "metadata": {},
   "outputs": [
    {
     "name": "stdout",
     "output_type": "stream",
     "text": [
      "1 0\n",
      "2 2\n",
      "3 4\n",
      "4 6\n",
      "5 8\n",
      "6 10\n",
      "7 12\n",
      "8 14\n",
      "9 16\n",
      "10 18\n",
      "11 20\n"
     ]
    }
   ],
   "source": [
    "list1 = [i*2 for i in range(11)]\n",
    "for count, value in enumerate(list1, start = 1):\n",
    "    print(count, value)"
   ]
  },
  {
   "cell_type": "code",
   "execution_count": 5,
   "metadata": {},
   "outputs": [
    {
     "name": "stdout",
     "output_type": "stream",
     "text": [
      "1 a d g\n",
      "2 b e h\n",
      "3 c f i\n"
     ]
    }
   ],
   "source": [
    "## Combining enumerate with zip\n",
    "first = [\"a\", \"b\", \"c\"]\n",
    "second = [\"d\", \"e\", \"f\"]\n",
    "third = [\"g\", \"h\", \"i\"]\n",
    "for count, (one, two, three) in enumerate(zip(first, second, third), start = 1):\n",
    "    print(count, one, two, three)\n"
   ]
  }
 ],
 "metadata": {
  "kernelspec": {
   "display_name": "dashboard",
   "language": "python",
   "name": "python3"
  },
  "language_info": {
   "codemirror_mode": {
    "name": "ipython",
    "version": 3
   },
   "file_extension": ".py",
   "mimetype": "text/x-python",
   "name": "python",
   "nbconvert_exporter": "python",
   "pygments_lexer": "ipython3",
   "version": "3.10.6"
  }
 },
 "nbformat": 4,
 "nbformat_minor": 2
}
