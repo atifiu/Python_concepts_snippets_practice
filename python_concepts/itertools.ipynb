{
 "cells": [
  {
   "cell_type": "markdown",
   "metadata": {},
   "source": [
    "### Itertools"
   ]
  },
  {
   "cell_type": "markdown",
   "metadata": {},
   "source": [
    "#### In this notebook we learn all the concepts and use cases of itertools library"
   ]
  },
  {
   "cell_type": "code",
   "execution_count": 1,
   "metadata": {},
   "outputs": [
    {
     "name": "stdout",
     "output_type": "stream",
     "text": [
      "atif\n",
      "amit\n",
      "Naoto\n",
      "Arti\n",
      "zoheb\n",
      "kasif\n"
     ]
    }
   ],
   "source": [
    "## Itertools.chain can be used to combine elements of different data structure\n",
    "\n",
    "import itertools\n",
    "group_list = ['atif', 'amit']\n",
    "group_set = {'Naoto', 'Arti', 'Arti'}\n",
    "group_tuple = ('zoheb', 'kasif')\n",
    "for colleagues in itertools.chain(group_list, group_set, group_tuple):\n",
    "    print(colleagues)\n"
   ]
  },
  {
   "cell_type": "code",
   "execution_count": 5,
   "metadata": {},
   "outputs": [
    {
     "name": "stdout",
     "output_type": "stream",
     "text": [
      "0 a d g\n",
      "1 b e h\n",
      "2 c f i\n"
     ]
    }
   ],
   "source": [
    "## counter with count\n",
    "import itertools\n",
    "first = [\"a\", \"b\", \"c\"]\n",
    "second = [\"d\", \"e\", \"f\"]\n",
    "third = [\"g\", \"h\", \"i\"]\n",
    "for count, one, two, three in zip(itertools.count(),first, second, third):\n",
    "    print(count, one, two, three)"
   ]
  }
 ],
 "metadata": {
  "kernelspec": {
   "display_name": "dashboard",
   "language": "python",
   "name": "python3"
  },
  "language_info": {
   "codemirror_mode": {
    "name": "ipython",
    "version": 3
   },
   "file_extension": ".py",
   "mimetype": "text/x-python",
   "name": "python",
   "nbconvert_exporter": "python",
   "pygments_lexer": "ipython3",
   "version": "3.10.6"
  }
 },
 "nbformat": 4,
 "nbformat_minor": 2
}
