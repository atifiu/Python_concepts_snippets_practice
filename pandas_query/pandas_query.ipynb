{
 "cells": [
  {
   "cell_type": "code",
   "execution_count": 1,
   "id": "c763cc85",
   "metadata": {},
   "outputs": [],
   "source": [
    "import pandas as pd\n",
    "data = {\"Names\": [\"Mike\", \"Rodrigo\", \"Sundeep\"],\n",
    "\"Jobs\": [\"Author\", \"Content Creator\", \"Author\"],\n",
    "\"Books\": [\"Python 101\", \"PyDon'ts\", \"Python re(gex)?\"]}\n",
    "df = pd.DataFrame(data)"
   ]
  },
  {
   "cell_type": "code",
   "execution_count": 2,
   "id": "a6b29abc",
   "metadata": {},
   "outputs": [
    {
     "data": {
      "text/html": [
       "<div>\n",
       "<style scoped>\n",
       "    .dataframe tbody tr th:only-of-type {\n",
       "        vertical-align: middle;\n",
       "    }\n",
       "\n",
       "    .dataframe tbody tr th {\n",
       "        vertical-align: top;\n",
       "    }\n",
       "\n",
       "    .dataframe thead th {\n",
       "        text-align: right;\n",
       "    }\n",
       "</style>\n",
       "<table border=\"1\" class=\"dataframe\">\n",
       "  <thead>\n",
       "    <tr style=\"text-align: right;\">\n",
       "      <th></th>\n",
       "      <th>Names</th>\n",
       "      <th>Jobs</th>\n",
       "      <th>Books</th>\n",
       "    </tr>\n",
       "  </thead>\n",
       "  <tbody>\n",
       "    <tr>\n",
       "      <th>0</th>\n",
       "      <td>Mike</td>\n",
       "      <td>Author</td>\n",
       "      <td>Python 101</td>\n",
       "    </tr>\n",
       "    <tr>\n",
       "      <th>1</th>\n",
       "      <td>Rodrigo</td>\n",
       "      <td>Content Creator</td>\n",
       "      <td>PyDon'ts</td>\n",
       "    </tr>\n",
       "    <tr>\n",
       "      <th>2</th>\n",
       "      <td>Sundeep</td>\n",
       "      <td>Author</td>\n",
       "      <td>Python re(gex)?</td>\n",
       "    </tr>\n",
       "  </tbody>\n",
       "</table>\n",
       "</div>"
      ],
      "text/plain": [
       "     Names             Jobs            Books\n",
       "0     Mike           Author       Python 101\n",
       "1  Rodrigo  Content Creator         PyDon'ts\n",
       "2  Sundeep           Author  Python re(gex)?"
      ]
     },
     "execution_count": 2,
     "metadata": {},
     "output_type": "execute_result"
    }
   ],
   "source": [
    "df"
   ]
  },
  {
   "cell_type": "markdown",
   "id": "16465fc2",
   "metadata": {},
   "source": [
    "#### 👉 Use query which provides sql style where clause search option and then select only the column you are interested with .item to convert it from series to string"
   ]
  },
  {
   "cell_type": "code",
   "execution_count": 3,
   "id": "f49f2ae3",
   "metadata": {},
   "outputs": [
    {
     "data": {
      "text/plain": [
       "'Python re(gex)?'"
      ]
     },
     "execution_count": 3,
     "metadata": {},
     "output_type": "execute_result"
    }
   ],
   "source": [
    "df.query('Books == \"Python re(gex)?\"')['Books'].item()"
   ]
  }
 ],
 "metadata": {
  "kernelspec": {
   "display_name": "Python 3 (ipykernel)",
   "language": "python",
   "name": "python3"
  },
  "language_info": {
   "codemirror_mode": {
    "name": "ipython",
    "version": 3
   },
   "file_extension": ".py",
   "mimetype": "text/x-python",
   "name": "python",
   "nbconvert_exporter": "python",
   "pygments_lexer": "ipython3",
   "version": "3.9.5"
  }
 },
 "nbformat": 4,
 "nbformat_minor": 5
}
