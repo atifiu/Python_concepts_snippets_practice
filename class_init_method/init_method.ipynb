{
 "cells": [
  {
   "cell_type": "markdown",
   "id": "6aeea0bc",
   "metadata": {},
   "source": [
    "### 👉 Implement a class Person that accepts a string argument name and saves it as an attribute.\n",
    "### Add a method greet that prints a greeting with that person's name.\n"
   ]
  },
  {
   "cell_type": "code",
   "execution_count": 3,
   "id": "4e3039af",
   "metadata": {},
   "outputs": [
    {
     "name": "stdout",
     "output_type": "stream",
     "text": [
      "Hello John Doe\n"
     ]
    }
   ],
   "source": [
    "class person:\n",
    "    def __init__(self, name):\n",
    "        self.name = name\n",
    "    def greet(self):\n",
    "        print(f\"Hello {self.name}\")\n",
    "\n",
    "greeting = person(\"John Doe\")\n",
    "greeting.greet()"
   ]
  },
  {
   "cell_type": "code",
   "execution_count": 15,
   "id": "f0d3d0b8",
   "metadata": {},
   "outputs": [
    {
     "name": "stdout",
     "output_type": "stream",
     "text": [
      "First name is Mohd\n",
      "First name is Atif\n"
     ]
    }
   ],
   "source": [
    "class FullNamePerson:\n",
    "    def __init__(self, first_name, last_name):\n",
    "        self.full_name = first_name +' '+ last_name\n",
    "    def getfirstname(self):\n",
    "        return self.full_name.split()[0].title()\n",
    "    def getlastname(self):\n",
    "        return self.full_name.split()[-1].title()\n",
    "\n",
    "name = FullNamePerson('mohd','atif')\n",
    "print(f\"First name is {name.getfirstname()}\")\n",
    "print(f\"First name is {name.getlastname()}\")"
   ]
  },
  {
   "cell_type": "code",
   "execution_count": null,
   "id": "7b2ac868",
   "metadata": {},
   "outputs": [],
   "source": []
  }
 ],
 "metadata": {
  "kernelspec": {
   "display_name": "Python 3 (ipykernel)",
   "language": "python",
   "name": "python3"
  },
  "language_info": {
   "codemirror_mode": {
    "name": "ipython",
    "version": 3
   },
   "file_extension": ".py",
   "mimetype": "text/x-python",
   "name": "python",
   "nbconvert_exporter": "python",
   "pygments_lexer": "ipython3",
   "version": "3.9.5"
  }
 },
 "nbformat": 4,
 "nbformat_minor": 5
}
